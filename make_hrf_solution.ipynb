{
 "cells": [
  {
   "cell_type": "markdown",
   "id": "ae55efc1",
   "metadata": {},
   "source": [
    "# Make your own hemodynamic response function"
   ]
  },
  {
   "cell_type": "code",
   "execution_count": 1,
   "id": "6f5a62ab",
   "metadata": {
    "execution": {
     "iopub.execute_input": "2022-05-19T14:21:04.683246Z",
     "iopub.status.busy": "2022-05-19T14:21:04.682504Z",
     "iopub.status.idle": "2022-05-19T14:21:05.239509Z",
     "shell.execute_reply": "2022-05-19T14:21:05.239944Z"
    }
   },
   "outputs": [],
   "source": [
    "# Import array and plotting libraries.\n",
    "import numpy as np\n",
    "import matplotlib.pyplot as plt\n",
    "# Print arrays to 4 decimal places\n",
    "np.set_printoptions(precision=4, suppress=True)\n",
    "\n",
    "# Nibabel and course libraries.\n",
    "import nibabel as nib\n",
    "import nipraxis"
   ]
  },
  {
   "cell_type": "markdown",
   "id": "039c9ae3",
   "metadata": {},
   "source": [
    "The file `mt_hrf_estimates.txt` contains the estimated FMRI signal from voxels\n",
    "in the MT motion area at 0, 2, 4, …, 28 seconds after a brief moving visual\n",
    "stimulus (see:\n",
    "[http://nipy.org/nitime/examples/event_related_fmri.html](http://nipy.org/nitime/examples/event_related_fmri.html)).\n",
    "\n",
    "Here are the first four rows. The numbers are in exponential floating\n",
    "point format:\n",
    "\n",
    "```\n",
    "1.394086932967517900e-01\n",
    "3.938585701431884800e-01\n",
    "5.012927230566770476e-01\n",
    "5.676763716149294536e-01\n",
    "```\n",
    "\n",
    "Read the values from the file into an array `mt_hrf_estimates`. Make a new\n",
    "array `mt_hrf_times` with the times of acquisition (0, 2, …). Plot them\n",
    "together to see the HRF estimate at these times:"
   ]
  },
  {
   "cell_type": "code",
   "execution_count": 2,
   "id": "94943e12",
   "metadata": {
    "execution": {
     "iopub.execute_input": "2022-05-19T14:21:05.245005Z",
     "iopub.status.busy": "2022-05-19T14:21:05.244350Z",
     "iopub.status.idle": "2022-05-19T14:21:05.355657Z",
     "shell.execute_reply": "2022-05-19T14:21:05.356091Z"
    }
   },
   "outputs": [],
   "source": [
    "#- Load the estimated values from the text file into an array\n",
    "#- Make an array of corresponding times\n",
    "mt_hrf_estimates = np.loadtxt('mt_hrf_estimates.txt')\n",
    "mt_hrf_times = np.arange(0, 30, 2)\n",
    "# Plot signal by time\n",
    "plt.plot(mt_hrf_times, mt_hrf_estimates)"
   ]
  },
  {
   "cell_type": "code",
   "execution_count": 3,
   "id": "eab16822",
   "metadata": {
    "execution": {
     "iopub.execute_input": "2022-05-19T14:21:05.360678Z",
     "iopub.status.busy": "2022-05-19T14:21:05.360061Z",
     "iopub.status.idle": "2022-05-19T14:21:05.361754Z",
     "shell.execute_reply": "2022-05-19T14:21:05.362165Z"
    },
    "lines_to_next_cell": 2
   },
   "outputs": [],
   "source": [
    "assert len(mt_hrf_times) == len(mt_hrf_estimates)\n",
    "assert np.all(mt_hrf_times[:3] == [0, 2, 4])\n",
    "assert mt_hrf_times[-1] == 28"
   ]
  },
  {
   "cell_type": "markdown",
   "id": "9431638d",
   "metadata": {},
   "source": [
    "We want to make a *hemodynamic response function* that matches this shape.\n",
    "\n",
    "Our function will accept an array that gives the times we want to calculate\n",
    "the HRF for, and returns the values of the HRF for those times. We will assume\n",
    "that the true HRF starts at zero, and gets to zero sometime around 30 seconds.\n",
    "\n",
    "Like SPM, I’m going to try using the sum of two [gamma\n",
    "distribution](https://en.wikipedia.org/wiki/Gamma_distribution)\n",
    "probability density functions."
   ]
  },
  {
   "cell_type": "code",
   "execution_count": 4,
   "id": "719cb14d",
   "metadata": {
    "execution": {
     "iopub.execute_input": "2022-05-19T14:21:05.365614Z",
     "iopub.status.busy": "2022-05-19T14:21:05.365023Z",
     "iopub.status.idle": "2022-05-19T14:21:05.655872Z",
     "shell.execute_reply": "2022-05-19T14:21:05.656270Z"
    }
   },
   "outputs": [],
   "source": [
    "#: import the gamma density function\n",
    "from scipy.stats import gamma"
   ]
  },
  {
   "cell_type": "markdown",
   "id": "1b4a8f0a",
   "metadata": {},
   "source": [
    "Here’s my first shot:"
   ]
  },
  {
   "cell_type": "code",
   "execution_count": 5,
   "id": "9a0dfe9e",
   "metadata": {
    "execution": {
     "iopub.execute_input": "2022-05-19T14:21:05.661322Z",
     "iopub.status.busy": "2022-05-19T14:21:05.660722Z",
     "iopub.status.idle": "2022-05-19T14:21:05.662592Z",
     "shell.execute_reply": "2022-05-19T14:21:05.663009Z"
    }
   },
   "outputs": [],
   "source": [
    "#: my attempt - you can do better than this\n",
    "def not_great_hrf(times):\n",
    "    \"\"\" Return values for HRF at given times \"\"\"\n",
    "    # Gamma pdf for the peak\n",
    "    peak_values = gamma.pdf(times, 6)\n",
    "    # Gamma pdf for the undershoot\n",
    "    undershoot_values = gamma.pdf(times, 12)\n",
    "    # Combine them\n",
    "    values = peak_values - 0.35 * undershoot_values\n",
    "    # Scale max to 0.6\n",
    "    return values / np.max(values) * 0.6"
   ]
  },
  {
   "cell_type": "code",
   "execution_count": 6,
   "id": "9b7faa99",
   "metadata": {
    "execution": {
     "iopub.execute_input": "2022-05-19T14:21:05.686778Z",
     "iopub.status.busy": "2022-05-19T14:21:05.686026Z",
     "iopub.status.idle": "2022-05-19T14:21:05.797002Z",
     "shell.execute_reply": "2022-05-19T14:21:05.797594Z"
    }
   },
   "outputs": [],
   "source": [
    "#: plot the data against my estimate\n",
    "plt.plot(mt_hrf_times, not_great_hrf(mt_hrf_times), label='not_great_hrf')\n",
    "plt.plot(mt_hrf_times, mt_hrf_estimates, label='mt_hrf_estimates')\n",
    "plt.legend()"
   ]
  },
  {
   "cell_type": "markdown",
   "id": "e8d703b1",
   "metadata": {},
   "source": [
    "Now see if you can make a better function by playing with the Gamma\n",
    "distribution PDF parameter, and the mix of the two gamma distribution\n",
    "functions. Call your function `mt_hrf`"
   ]
  },
  {
   "cell_type": "code",
   "execution_count": 7,
   "id": "668ec1b6",
   "metadata": {
    "execution": {
     "iopub.execute_input": "2022-05-19T14:21:05.803331Z",
     "iopub.status.busy": "2022-05-19T14:21:05.802263Z",
     "iopub.status.idle": "2022-05-19T14:21:05.804979Z",
     "shell.execute_reply": "2022-05-19T14:21:05.805466Z"
    }
   },
   "outputs": [],
   "source": [
    "#- Your \"mt_hrf\" function here\n",
    "def mt_hrf(times):\n",
    "    \"\"\" Return values for HRF at given times \"\"\"\n",
    "    # Gamma pdf for the peak\n",
    "    peak_values = gamma.pdf(times, 7)\n",
    "    # Gamma pdf for the undershoot\n",
    "    undershoot_values = gamma.pdf(times, 20)\n",
    "    # Combine them\n",
    "    values = peak_values - undershoot_values\n",
    "    # Scale max to 0.6\n",
    "    return values / np.max(values) * 0.6"
   ]
  },
  {
   "cell_type": "code",
   "execution_count": 8,
   "id": "3842b83a",
   "metadata": {
    "execution": {
     "iopub.execute_input": "2022-05-19T14:21:05.831780Z",
     "iopub.status.busy": "2022-05-19T14:21:05.831170Z",
     "iopub.status.idle": "2022-05-19T14:21:05.925466Z",
     "shell.execute_reply": "2022-05-19T14:21:05.925885Z"
    }
   },
   "outputs": [],
   "source": [
    "#- Plot your function against the mt_hrf_estimates data to test\n",
    "plt.plot(mt_hrf_times, mt_hrf(mt_hrf_times), label='mt_hrf')\n",
    "plt.plot(mt_hrf_times, mt_hrf_estimates, label='mt_hrf_estimates')\n",
    "plt.legend()"
   ]
  },
  {
   "cell_type": "markdown",
   "id": "89579063",
   "metadata": {},
   "source": [
    "For extra points - other than looking at these plots, how would you\n",
    "convince me your function is better than mine?"
   ]
  },
  {
   "cell_type": "code",
   "execution_count": 9,
   "id": "330a810e",
   "metadata": {
    "execution": {
     "iopub.execute_input": "2022-05-19T14:21:05.931437Z",
     "iopub.status.busy": "2022-05-19T14:21:05.930763Z",
     "iopub.status.idle": "2022-05-19T14:21:05.933600Z",
     "shell.execute_reply": "2022-05-19T14:21:05.934076Z"
    }
   },
   "outputs": [],
   "source": [
    "#- Evidence that your function is better than mine?\n",
    "#- Your code below, to persuade me.\n",
    "np.corrcoef(mt_hrf_times, not_great_hrf(mt_hrf_times))\n",
    "np.corrcoef(mt_hrf_times, mt_hrf(mt_hrf_times))"
   ]
  },
  {
   "cell_type": "markdown",
   "id": "ef6ad164",
   "metadata": {},
   "source": [
    "## Modeling\n",
    "\n",
    "We are going to be analyzing the data for the 4D image\n",
    "`ds114_sub009_t2r1.nii` again."
   ]
  },
  {
   "cell_type": "code",
   "execution_count": 10,
   "id": "304cc73b",
   "metadata": {
    "execution": {
     "iopub.execute_input": "2022-05-19T14:21:05.937917Z",
     "iopub.status.busy": "2022-05-19T14:21:05.937295Z",
     "iopub.status.idle": "2022-05-19T14:21:06.124655Z",
     "shell.execute_reply": "2022-05-19T14:21:06.125081Z"
    }
   },
   "outputs": [],
   "source": [
    "# Fetch the data file.\n",
    "data_fname = nipraxis.fetch_file('ds114_sub009_t2r1.nii')\n",
    "# Show the file name of the fetched data.\n",
    "img = nib.load(data_fname)\n",
    "# Load data, drop first (bad) volume.\n",
    "data = img.get_fdata()[..., 1:]\n",
    "data.shape"
   ]
  },
  {
   "cell_type": "code",
   "execution_count": 11,
   "id": "6a8dff5d",
   "metadata": {
    "execution": {
     "iopub.execute_input": "2022-05-19T14:21:06.129585Z",
     "iopub.status.busy": "2022-05-19T14:21:06.128934Z",
     "iopub.status.idle": "2022-05-19T14:21:06.238453Z",
     "shell.execute_reply": "2022-05-19T14:21:06.238856Z"
    }
   },
   "outputs": [],
   "source": [
    "# Fetch, load the condition file\n",
    "from nipraxis.stimuli import events2neural\n",
    "\n",
    "cond_fname = nipraxis.fetch_file('ds114_sub009_t2r1_cond.txt')\n",
    "TR = 2.5  # time between volumes\n",
    "n_trs = img.shape[-1]  # The original number of TRs\n",
    "neural_prediction = events2neural(cond_fname, TR, n_trs)\n",
    "# Drop value corresponding to first bad volume, dropped above.\n",
    "neural_prediction = neural_prediction[1:]\n",
    "plt.plot(neural_prediction)\n",
    "plt.ylim(0, 1.2)"
   ]
  },
  {
   "cell_type": "markdown",
   "id": "ae0c3ab2",
   "metadata": {},
   "source": [
    "For now, we’re going to play with data for a single voxel.\n",
    "\n",
    "In the *First go at brain activation* exercise, we subtracted the rest scans\n",
    "from the task scans, something like this:"
   ]
  },
  {
   "cell_type": "code",
   "execution_count": 12,
   "id": "297b3ed1",
   "metadata": {
    "execution": {
     "iopub.execute_input": "2022-05-19T14:21:06.243074Z",
     "iopub.status.busy": "2022-05-19T14:21:06.242471Z",
     "iopub.status.idle": "2022-05-19T14:21:06.349472Z",
     "shell.execute_reply": "2022-05-19T14:21:06.349957Z"
    }
   },
   "outputs": [],
   "source": [
    "#: subtracting rest from task scans\n",
    "task_scans = data[..., neural_prediction == 1]\n",
    "rest_scans = data[..., neural_prediction == 0]\n",
    "difference = np.mean(task_scans, axis=-1) - np.mean(rest_scans, axis=-1)"
   ]
  },
  {
   "cell_type": "code",
   "execution_count": 13,
   "id": "6ff75739",
   "metadata": {
    "execution": {
     "iopub.execute_input": "2022-05-19T14:21:06.369353Z",
     "iopub.status.busy": "2022-05-19T14:21:06.368242Z",
     "iopub.status.idle": "2022-05-19T14:21:06.459009Z",
     "shell.execute_reply": "2022-05-19T14:21:06.459428Z"
    }
   },
   "outputs": [],
   "source": [
    "#: showing slice 14 from the difference image\n",
    "plt.imshow(difference[:, :, 14], cmap='gray')"
   ]
  },
  {
   "cell_type": "markdown",
   "id": "2e1cf63c",
   "metadata": {},
   "source": [
    "It looks like there’s a voxel that is greater for activation than rest at\n",
    "about (i, j, k) == (45, 43, 14).\n",
    "\n",
    "Get and plot the values for this voxel position, for every volume in the 4D\n",
    "data (not including the first volume). You can do it with a loop, but slicing\n",
    "is much nicer."
   ]
  },
  {
   "cell_type": "code",
   "execution_count": 14,
   "id": "6a078820",
   "metadata": {
    "execution": {
     "iopub.execute_input": "2022-05-19T14:21:06.479717Z",
     "iopub.status.busy": "2022-05-19T14:21:06.479095Z",
     "iopub.status.idle": "2022-05-19T14:21:06.575213Z",
     "shell.execute_reply": "2022-05-19T14:21:06.575628Z"
    }
   },
   "outputs": [],
   "source": [
    "#- Get the values for (i, j, k) = (45, 43, 14) and every volume.\n",
    "voxel_values = data[45, 43, 14, :]\n",
    "# Plot the values (voxel time course).\n",
    "plt.plot(voxel_values)"
   ]
  },
  {
   "cell_type": "code",
   "execution_count": 15,
   "id": "91b53e78",
   "metadata": {
    "execution": {
     "iopub.execute_input": "2022-05-19T14:21:06.579433Z",
     "iopub.status.busy": "2022-05-19T14:21:06.578751Z",
     "iopub.status.idle": "2022-05-19T14:21:06.580564Z",
     "shell.execute_reply": "2022-05-19T14:21:06.581001Z"
    }
   },
   "outputs": [],
   "source": [
    "assert len(voxel_values) == 172"
   ]
  },
  {
   "cell_type": "markdown",
   "id": "7ec4bf7c",
   "metadata": {},
   "source": [
    "Correlate the predicted neural time series with the voxel time course:"
   ]
  },
  {
   "cell_type": "code",
   "execution_count": 16,
   "id": "ab00aaef",
   "metadata": {
    "execution": {
     "iopub.execute_input": "2022-05-19T14:21:06.585330Z",
     "iopub.status.busy": "2022-05-19T14:21:06.584649Z",
     "iopub.status.idle": "2022-05-19T14:21:06.587024Z",
     "shell.execute_reply": "2022-05-19T14:21:06.587574Z"
    }
   },
   "outputs": [],
   "source": [
    "#- Correlation of predicted neural time course with voxel signal time\n",
    "#- course\n",
    "correlation = np.corrcoef(neural_prediction, voxel_values)[0, 1]\n",
    "# Show the result.\n",
    "correlation"
   ]
  },
  {
   "cell_type": "code",
   "execution_count": 17,
   "id": "009f3e70",
   "metadata": {
    "execution": {
     "iopub.execute_input": "2022-05-19T14:21:06.591398Z",
     "iopub.status.busy": "2022-05-19T14:21:06.590794Z",
     "iopub.status.idle": "2022-05-19T14:21:06.592547Z",
     "shell.execute_reply": "2022-05-19T14:21:06.592961Z"
    }
   },
   "outputs": [],
   "source": [
    "# Should be scalar (single value).  Did you select the value\n",
    "# from the correlation array?\n",
    "assert correlation.size == 1\n",
    "assert np.round(correlation, 3) == 0.312"
   ]
  },
  {
   "cell_type": "markdown",
   "id": "32b014bc",
   "metadata": {},
   "source": [
    "Now we will do a predicted hemodynamic time course using convolution.\n",
    "\n",
    "Next we need to get the HRF vector to convolve with.\n",
    "\n",
    "Remember we have defined the HRF as a function of time, not TRs.\n",
    "\n",
    "For our convolution, we need to *sample* the HRF at times corresponding the\n",
    "start of the TRs.\n",
    "\n",
    "So, we need to sample at times (0, 2.5, …)\n",
    "\n",
    "Make a vector of times at which to sample the HRF. We want to sample every TR\n",
    "up until (but not including) somewhere near 35 seconds (where the HRF should\n",
    "have got close to zero again)."
   ]
  },
  {
   "cell_type": "code",
   "execution_count": 18,
   "id": "dacb549c",
   "metadata": {
    "execution": {
     "iopub.execute_input": "2022-05-19T14:21:06.597184Z",
     "iopub.status.busy": "2022-05-19T14:21:06.596497Z",
     "iopub.status.idle": "2022-05-19T14:21:06.598900Z",
     "shell.execute_reply": "2022-05-19T14:21:06.599310Z"
    }
   },
   "outputs": [],
   "source": [
    "#- Make a vector of times at which to sample the HRF\n",
    "hrf_times = np.arange(0, 35, TR)\n",
    "# Show the result\n",
    "hrf_times"
   ]
  },
  {
   "cell_type": "code",
   "execution_count": 19,
   "id": "5f62069b",
   "metadata": {
    "execution": {
     "iopub.execute_input": "2022-05-19T14:21:06.603354Z",
     "iopub.status.busy": "2022-05-19T14:21:06.602767Z",
     "iopub.status.idle": "2022-05-19T14:21:06.604552Z",
     "shell.execute_reply": "2022-05-19T14:21:06.604975Z"
    }
   },
   "outputs": [],
   "source": [
    "assert np.allclose(hrf_times[:4], [0, 2.5, 5, 7.5])\n",
    "assert np.allclose(hrf_times[-2:], [30.0, 32.5])\n",
    "assert len(hrf_times) == 14"
   ]
  },
  {
   "cell_type": "markdown",
   "id": "3f6b0996",
   "metadata": {},
   "source": [
    "Sample your `mt_hrf` HRF function at these times and plot:"
   ]
  },
  {
   "cell_type": "code",
   "execution_count": 20,
   "id": "5047eba3",
   "metadata": {
    "execution": {
     "iopub.execute_input": "2022-05-19T14:21:06.625160Z",
     "iopub.status.busy": "2022-05-19T14:21:06.624536Z",
     "iopub.status.idle": "2022-05-19T14:21:06.712108Z",
     "shell.execute_reply": "2022-05-19T14:21:06.712522Z"
    }
   },
   "outputs": [],
   "source": [
    "#- Sample HRF at given times\n",
    "hrf_signal = mt_hrf(hrf_times)\n",
    "#- Plot HRF samples against times\n",
    "plt.plot(hrf_times, hrf_signal)"
   ]
  },
  {
   "cell_type": "markdown",
   "id": "411f10bf",
   "metadata": {},
   "source": [
    "Convolve the predicted neural time course with the HRF samples:"
   ]
  },
  {
   "cell_type": "code",
   "execution_count": 21,
   "id": "3bea72c1",
   "metadata": {
    "execution": {
     "iopub.execute_input": "2022-05-19T14:21:06.716905Z",
     "iopub.status.busy": "2022-05-19T14:21:06.716249Z",
     "iopub.status.idle": "2022-05-19T14:21:06.718709Z",
     "shell.execute_reply": "2022-05-19T14:21:06.719359Z"
    }
   },
   "outputs": [],
   "source": [
    "#- Convolve predicted neural time course with HRF samples\n",
    "hemodynamic_prediction = np.convolve(neural_prediction, hrf_signal)\n",
    "# Show the first 10 values in the result\n",
    "hemodynamic_prediction[:10]"
   ]
  },
  {
   "cell_type": "markdown",
   "id": "e6fc024d",
   "metadata": {},
   "source": [
    "The default output of convolve is longer than the input neural prediction\n",
    "vector, by the length of the convolving vector (the HRF samples) minus 1.\n",
    "Knock these last values off the result of the convolution to get a vector the\n",
    "same length as the neural prediction:"
   ]
  },
  {
   "cell_type": "code",
   "execution_count": 22,
   "id": "26dd2dcd",
   "metadata": {
    "execution": {
     "iopub.execute_input": "2022-05-19T14:21:06.722746Z",
     "iopub.status.busy": "2022-05-19T14:21:06.722147Z",
     "iopub.status.idle": "2022-05-19T14:21:06.724162Z",
     "shell.execute_reply": "2022-05-19T14:21:06.724645Z"
    }
   },
   "outputs": [],
   "source": [
    "#- Remove extra tail of values put there by the convolution\n",
    "hemo_pred_short = hemodynamic_prediction[:len(neural_prediction)]"
   ]
  },
  {
   "cell_type": "code",
   "execution_count": 23,
   "id": "df9ab8e3",
   "metadata": {
    "execution": {
     "iopub.execute_input": "2022-05-19T14:21:06.728253Z",
     "iopub.status.busy": "2022-05-19T14:21:06.727661Z",
     "iopub.status.idle": "2022-05-19T14:21:06.729584Z",
     "shell.execute_reply": "2022-05-19T14:21:06.730002Z"
    },
    "lines_to_next_cell": 2
   },
   "outputs": [],
   "source": [
    "assert len(hemo_pred_short) == len(voxel_values)"
   ]
  },
  {
   "cell_type": "markdown",
   "id": "d05a0445",
   "metadata": {},
   "source": [
    "Plot the convolved neural prediction, and then, on the same plot, plot the\n",
    "unconvolved neural prediction."
   ]
  },
  {
   "cell_type": "code",
   "execution_count": 24,
   "id": "d3149bfc",
   "metadata": {
    "execution": {
     "iopub.execute_input": "2022-05-19T14:21:06.752139Z",
     "iopub.status.busy": "2022-05-19T14:21:06.751540Z",
     "iopub.status.idle": "2022-05-19T14:21:06.871255Z",
     "shell.execute_reply": "2022-05-19T14:21:06.871704Z"
    }
   },
   "outputs": [],
   "source": [
    "#- Plot convolved neural prediction and unconvolved neural prediction\n",
    "plt.plot(neural_prediction, label='unconvolved')\n",
    "plt.plot(hemo_pred_short, label='convolved')\n",
    "plt.legend()"
   ]
  },
  {
   "cell_type": "markdown",
   "id": "05195e3f",
   "metadata": {},
   "source": [
    "Does the new convolved time course correlate better with the voxel time\n",
    "course?"
   ]
  },
  {
   "cell_type": "code",
   "execution_count": 25,
   "id": "749dd219",
   "metadata": {
    "execution": {
     "iopub.execute_input": "2022-05-19T14:21:06.876125Z",
     "iopub.status.busy": "2022-05-19T14:21:06.875396Z",
     "iopub.status.idle": "2022-05-19T14:21:06.878173Z",
     "shell.execute_reply": "2022-05-19T14:21:06.878632Z"
    }
   },
   "outputs": [],
   "source": [
    "#- Correlation of the convolved time course with voxel time course\n",
    "np.corrcoef(hemo_pred_short, voxel_values)"
   ]
  },
  {
   "cell_type": "markdown",
   "id": "fa273454",
   "metadata": {},
   "source": [
    "Plot the hemodynamic prediction against the actual signal (voxel values).  Investigate the `plt.` namespace for a useful function to do a scatterplot."
   ]
  },
  {
   "cell_type": "code",
   "execution_count": 26,
   "id": "84b7d183",
   "metadata": {
    "execution": {
     "iopub.execute_input": "2022-05-19T14:21:06.934017Z",
     "iopub.status.busy": "2022-05-19T14:21:06.933402Z",
     "iopub.status.idle": "2022-05-19T14:21:07.036601Z",
     "shell.execute_reply": "2022-05-19T14:21:07.037081Z"
    }
   },
   "outputs": [],
   "source": [
    "#- Scatterplot the hemodynamic prediction against the signal\n",
    "plt.scatter(hemo_pred_short, voxel_values)\n",
    "plt.xlabel('hemodynamic prediction')\n",
    "plt.ylabel('voxel values')"
   ]
  }
 ],
 "metadata": {
  "jupytext": {
   "notebook_metadata_filter": "all,-language_info",
   "split_at_heading": true,
   "text_representation": {
    "extension": ".Rmd",
    "format_name": "rmarkdown",
    "format_version": "1.2",
    "jupytext_version": "1.13.7"
   }
  },
  "kernelspec": {
   "display_name": "Python 3",
   "language": "python",
   "name": "python3"
  },
  "language_info": {
   "codemirror_mode": {
    "name": "ipython",
    "version": 3
   },
   "file_extension": ".py",
   "mimetype": "text/x-python",
   "name": "python",
   "nbconvert_exporter": "python",
   "pygments_lexer": "ipython3",
   "version": "3.8.13"
  }
 },
 "nbformat": 4,
 "nbformat_minor": 5
}
