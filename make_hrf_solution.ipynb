{
 "cells": [
  {
   "cell_type": "markdown",
   "id": "737b9c75",
   "metadata": {},
   "source": [
    "# Make your own hemodynamic response function"
   ]
  },
  {
   "cell_type": "code",
   "execution_count": 1,
   "id": "e99bb731",
   "metadata": {
    "execution": {
     "iopub.execute_input": "2022-05-19T11:16:16.114709Z",
     "iopub.status.busy": "2022-05-19T11:16:16.114019Z",
     "iopub.status.idle": "2022-05-19T11:16:16.383592Z",
     "shell.execute_reply": "2022-05-19T11:16:16.384018Z"
    }
   },
   "outputs": [],
   "source": [
    "# Import array and plotting libraries.\n",
    "import numpy as np\n",
    "import matplotlib.pyplot as plt\n",
    "# Print arrays to 4 decimal places\n",
    "np.set_printoptions(precision=4, suppress=True)"
   ]
  },
  {
   "cell_type": "markdown",
   "id": "cb2a9011",
   "metadata": {},
   "source": [
    "The file `mt_hrf_estimates.txt` contains the estimated FMRI signal from voxels\n",
    "in the MT motion area at 0, 2, 4, …, 28 seconds after a brief moving visual\n",
    "stimulus (see:\n",
    "[http://nipy.org/nitime/examples/event_related_fmri.html](http://nipy.org/nitime/examples/event_related_fmri.html)).\n",
    "\n",
    "Here are the first four rows. The numbers are in exponential floating\n",
    "point format:\n",
    "\n",
    "```\n",
    "1.394086932967517900e-01\n",
    "3.938585701431884800e-01\n",
    "5.012927230566770476e-01\n",
    "5.676763716149294536e-01\n",
    "```\n",
    "\n",
    "Read the values from the file into an array `mt_hrf_estimates`. Make a new\n",
    "array `mt_hrf_times` with the times of acquisition (0, 2, …). Plot them\n",
    "together to see the HRF estimate at these times:"
   ]
  },
  {
   "cell_type": "code",
   "execution_count": 2,
   "id": "ab98f377",
   "metadata": {
    "execution": {
     "iopub.execute_input": "2022-05-19T11:16:16.388411Z",
     "iopub.status.busy": "2022-05-19T11:16:16.387809Z",
     "iopub.status.idle": "2022-05-19T11:16:16.496314Z",
     "shell.execute_reply": "2022-05-19T11:16:16.496732Z"
    }
   },
   "outputs": [],
   "source": [
    "#- Load the estimated values from the text file into an array\n",
    "#- Make an array of corresponding times\n",
    "mt_hrf_estimates = np.loadtxt('mt_hrf_estimates.txt')\n",
    "mt_hrf_times = np.arange(0, 30, 2)\n",
    "# Plot signal by time\n",
    "plt.plot(mt_hrf_times, mt_hrf_estimates)"
   ]
  },
  {
   "cell_type": "markdown",
   "id": "5cd38744",
   "metadata": {},
   "source": [
    "We want to make a *hemodynamic response function* that matches this shape.\n",
    "\n",
    "Our function will accept an array that gives the times we want to calculate\n",
    "the HRF for, and returns the values of the HRF for those times. We will assume\n",
    "that the true HRF starts at zero, and gets to zero sometime before 35 seconds.\n",
    "\n",
    "Like SPM, I’m going to try using the sum of two [gamma\n",
    "distribution](https://en.wikipedia.org/wiki/Gamma_distribution)\n",
    "probability density functions."
   ]
  },
  {
   "cell_type": "code",
   "execution_count": 3,
   "id": "7b8e2e9b",
   "metadata": {
    "execution": {
     "iopub.execute_input": "2022-05-19T11:16:16.500391Z",
     "iopub.status.busy": "2022-05-19T11:16:16.499694Z",
     "iopub.status.idle": "2022-05-19T11:16:16.751961Z",
     "shell.execute_reply": "2022-05-19T11:16:16.752378Z"
    }
   },
   "outputs": [],
   "source": [
    "#: import the gamma density function\n",
    "from scipy.stats import gamma"
   ]
  },
  {
   "cell_type": "markdown",
   "id": "c579ae0b",
   "metadata": {},
   "source": [
    "Here’s my first shot:"
   ]
  },
  {
   "cell_type": "code",
   "execution_count": 4,
   "id": "a872505b",
   "metadata": {
    "execution": {
     "iopub.execute_input": "2022-05-19T11:16:16.757116Z",
     "iopub.status.busy": "2022-05-19T11:16:16.756444Z",
     "iopub.status.idle": "2022-05-19T11:16:16.758905Z",
     "shell.execute_reply": "2022-05-19T11:16:16.758494Z"
    }
   },
   "outputs": [],
   "source": [
    "#: my attempt - you can do better than this\n",
    "def not_great_hrf(times):\n",
    "    \"\"\" Return values for HRF at given times \"\"\"\n",
    "    # Gamma pdf for the peak\n",
    "    peak_values = gamma.pdf(times, 6)\n",
    "    # Gamma pdf for the undershoot\n",
    "    undershoot_values = gamma.pdf(times, 12)\n",
    "    # Combine them\n",
    "    values = peak_values - 0.35 * undershoot_values\n",
    "    # Scale max to 0.6\n",
    "    return values / np.max(values) * 0.6"
   ]
  },
  {
   "cell_type": "code",
   "execution_count": 5,
   "id": "58aa0492",
   "metadata": {
    "execution": {
     "iopub.execute_input": "2022-05-19T11:16:16.782493Z",
     "iopub.status.busy": "2022-05-19T11:16:16.781795Z",
     "iopub.status.idle": "2022-05-19T11:16:16.905215Z",
     "shell.execute_reply": "2022-05-19T11:16:16.905630Z"
    }
   },
   "outputs": [],
   "source": [
    "#: plot the data against my estimate\n",
    "plt.plot(mt_hrf_times, not_great_hrf(mt_hrf_times), label='not_great_hrf')\n",
    "plt.plot(mt_hrf_times, mt_hrf_estimates, label='mt_hrf_estimates')\n",
    "plt.legend()"
   ]
  },
  {
   "cell_type": "markdown",
   "id": "852c7021",
   "metadata": {},
   "source": [
    "Now see if you can make a better function by playing with the Gamma\n",
    "distribution PDF parameter, and the mix of the two gamma distribution\n",
    "functions. Call your function `mt_hrf`"
   ]
  },
  {
   "cell_type": "code",
   "execution_count": 6,
   "id": "438f6a36",
   "metadata": {
    "execution": {
     "iopub.execute_input": "2022-05-19T11:16:16.910133Z",
     "iopub.status.busy": "2022-05-19T11:16:16.909515Z",
     "iopub.status.idle": "2022-05-19T11:16:16.911314Z",
     "shell.execute_reply": "2022-05-19T11:16:16.911695Z"
    }
   },
   "outputs": [],
   "source": [
    "#- Your \"mt_hrf\" function here\n",
    "def mt_hrf(times):\n",
    "    \"\"\" Return values for HRF at given times \"\"\"\n",
    "    # Gamma pdf for the peak\n",
    "    peak_values = gamma.pdf(times, 7)\n",
    "    # Gamma pdf for the undershoot\n",
    "    undershoot_values = gamma.pdf(times, 20)\n",
    "    # Combine them\n",
    "    values = peak_values - undershoot_values\n",
    "    # Scale max to 0.6\n",
    "    return values / np.max(values) * 0.6"
   ]
  },
  {
   "cell_type": "code",
   "execution_count": 7,
   "id": "c26efacd",
   "metadata": {
    "execution": {
     "iopub.execute_input": "2022-05-19T11:16:16.934823Z",
     "iopub.status.busy": "2022-05-19T11:16:16.934172Z",
     "iopub.status.idle": "2022-05-19T11:16:17.030493Z",
     "shell.execute_reply": "2022-05-19T11:16:17.030908Z"
    }
   },
   "outputs": [],
   "source": [
    "#- Plot your function against the mt_hrf_estimates data to test\n",
    "plt.plot(mt_hrf_times, mt_hrf(mt_hrf_times), label='mt_hrf')\n",
    "plt.plot(mt_hrf_times, mt_hrf_estimates, label='mt_hrf_estimates')\n",
    "plt.legend()"
   ]
  },
  {
   "cell_type": "markdown",
   "id": "3b8caa5d",
   "metadata": {},
   "source": [
    "For extra points - other than looking at these plots, how would you\n",
    "convince me your function is better than mine?"
   ]
  },
  {
   "cell_type": "code",
   "execution_count": 8,
   "id": "d9b84995",
   "metadata": {
    "execution": {
     "iopub.execute_input": "2022-05-19T11:16:17.036380Z",
     "iopub.status.busy": "2022-05-19T11:16:17.035701Z",
     "iopub.status.idle": "2022-05-19T11:16:17.038278Z",
     "shell.execute_reply": "2022-05-19T11:16:17.038689Z"
    }
   },
   "outputs": [],
   "source": [
    "#- Evidence that your function is better than mine?\n",
    "#- Your code below, to persuade me.\n",
    "np.corrcoef(mt_hrf_times, not_great_hrf(mt_hrf_times))\n",
    "np.corrcoef(mt_hrf_times, mt_hrf(mt_hrf_times))"
   ]
  }
 ],
 "metadata": {
  "jupytext": {
   "notebook_metadata_filter": "all,-language_info",
   "split_at_heading": true,
   "text_representation": {
    "extension": ".Rmd",
    "format_name": "rmarkdown",
    "format_version": "1.2",
    "jupytext_version": "1.13.7"
   }
  },
  "kernelspec": {
   "display_name": "Python 3",
   "language": "python",
   "name": "python3"
  },
  "language_info": {
   "codemirror_mode": {
    "name": "ipython",
    "version": 3
   },
   "file_extension": ".py",
   "mimetype": "text/x-python",
   "name": "python",
   "nbconvert_exporter": "python",
   "pygments_lexer": "ipython3",
   "version": "3.8.13"
  }
 },
 "nbformat": 4,
 "nbformat_minor": 5
}
